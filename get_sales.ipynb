{
 "cells": [
  {
   "cell_type": "code",
   "execution_count": null,
   "metadata": {},
   "outputs": [],
   "source": [
    "\n",
    "import pandas as pd\n",
    "import math"
   ]
  },
  {
   "cell_type": "code",
   "execution_count": 1,
   "metadata": {},
   "outputs": [
    {
     "data": {
      "application/javascript": "\n        if (window._pyforest_update_imports_cell) { window._pyforest_update_imports_cell('import pandas as pd'); }\n    ",
      "text/plain": [
       "<IPython.core.display.Javascript object>"
      ]
     },
     "metadata": {},
     "output_type": "display_data"
    },
    {
     "data": {
      "application/javascript": "\n        if (window._pyforest_update_imports_cell) { window._pyforest_update_imports_cell('import pandas as pd'); }\n    ",
      "text/plain": [
       "<IPython.core.display.Javascript object>"
      ]
     },
     "metadata": {},
     "output_type": "display_data"
    }
   ],
   "source": [
    "def get_gdp_data():\n",
    "    \"\"\"Grab GDP data from a CSV file.\n",
    "\n",
    "    This uses caching to avoid having to read the file every time. If we were\n",
    "    reading from an HTTP endpoint instead of a file, it's a good idea to set\n",
    "    a maximum age to the cache with the TTL argument: @st.cache_data(ttl='1d')\n",
    "    \"\"\"\n",
    "\n",
    "    # Instead of a CSV on disk, you could read from an HTTP endpoint here too.\n",
    "    DATA_FILENAME = r'C:\\Users\\mikej\\Desktop\\strokes_from_winner\\gdp_data.csv'\n",
    "    raw_gdp_df = pd.read_csv(DATA_FILENAME)\n",
    "\n",
    "    MIN_YEAR = 1960\n",
    "    MAX_YEAR = 2022\n",
    "\n",
    "    # The data above has columns like:\n",
    "    # - Country Name\n",
    "    # - Country Code\n",
    "    # - [Stuff I don't care about]\n",
    "    # - GDP for 1960\n",
    "    # - GDP for 1961\n",
    "    # - GDP for 1962\n",
    "    # - ...\n",
    "    # - GDP for 2022\n",
    "    #\n",
    "    # ...but I want this instead:\n",
    "    # - Country Name\n",
    "    # - Country Code\n",
    "    # - Year\n",
    "    # - GDP\n",
    "    #\n",
    "    # So let's pivot all those year-columns into two: Year and GDP\n",
    "    gdp_df = raw_gdp_df.melt(\n",
    "        ['Country Code'],\n",
    "        [str(x) for x in range(MIN_YEAR, MAX_YEAR + 1)],\n",
    "        'Year',\n",
    "        'GDP',\n",
    "    )\n",
    "\n",
    "    # Convert years from string to integers\n",
    "    gdp_df['Year'] = pd.to_numeric(gdp_df['Year'])\n",
    "\n",
    "    return gdp_df\n",
    "\n",
    "gdp_df = get_gdp_data()"
   ]
  },
  {
   "cell_type": "code",
   "execution_count": null,
   "metadata": {},
   "outputs": [
    {
     "data": {
      "application/javascript": "\n        if (window._pyforest_update_imports_cell) { window._pyforest_update_imports_cell('import sklearn\\nimport pandas as pd\\nimport gensim'); }\n    ",
      "text/plain": [
       "<IPython.core.display.Javascript object>"
      ]
     },
     "metadata": {},
     "output_type": "display_data"
    },
    {
     "data": {
      "application/javascript": "\n        if (window._pyforest_update_imports_cell) { window._pyforest_update_imports_cell('import sklearn\\nimport pandas as pd\\nimport gensim'); }\n    ",
      "text/plain": [
       "<IPython.core.display.Javascript object>"
      ]
     },
     "metadata": {},
     "output_type": "display_data"
    },
    {
     "data": {
      "application/javascript": "\n        if (window._pyforest_update_imports_cell) { window._pyforest_update_imports_cell('import sklearn\\nimport pandas as pd\\nimport gensim'); }\n    ",
      "text/plain": [
       "<IPython.core.display.Javascript object>"
      ]
     },
     "metadata": {},
     "output_type": "display_data"
    }
   ],
   "source": [
    "\n",
    "def get_sales():\n",
    "    \"\"\"Grab GDP data from a CSV file.\n",
    "\n",
    "    This uses caching to avoid having to read the file every time. If we were\n",
    "    reading from an HTTP endpoint instead of a file, it's a good idea to set\n",
    "    a maximum age to the cache with the TTL argument: @st.cache_data(ttl='1d')\n",
    "    \"\"\"\n",
    "\n",
    "    # Instead of a CSV on disk, you could read from an HTTP endpoint here too.\n",
    "    DATA_FILENAME = r\"C:\\Users\\mikej\\OneDrive - Wilde Brands\\data\\outputs\\true_sales_cust.csv\"\n",
    "    sales = pd.read_csv(DATA_FILENAME)\n",
    "\n",
    "    sales['date'] = pd.to_datetime(sales['date'])\n",
    "\n",
    "    sales = sales.groupby(\n",
    "        [pd.Grouper(key='date',freq='W'), 'cust_parent_name']).agg({'amount':'sum'}).reset_index().astype({'amount': 'int64','cust_parent_name':'string'})\n",
    "\n",
    "    return sales\n",
    "\n",
    "sales = get_sales()"
   ]
  },
  {
   "cell_type": "code",
   "execution_count": 19,
   "metadata": {},
   "outputs": [
    {
     "data": {
      "text/html": [
       "<div>\n",
       "<style scoped>\n",
       "    .dataframe tbody tr th:only-of-type {\n",
       "        vertical-align: middle;\n",
       "    }\n",
       "\n",
       "    .dataframe tbody tr th {\n",
       "        vertical-align: top;\n",
       "    }\n",
       "\n",
       "    .dataframe thead th {\n",
       "        text-align: right;\n",
       "    }\n",
       "</style>\n",
       "<table border=\"1\" class=\"dataframe\">\n",
       "  <thead>\n",
       "    <tr style=\"text-align: right;\">\n",
       "      <th></th>\n",
       "      <th>date</th>\n",
       "      <th>cust_parent_name</th>\n",
       "      <th>amount</th>\n",
       "    </tr>\n",
       "  </thead>\n",
       "  <tbody>\n",
       "    <tr>\n",
       "      <th>0</th>\n",
       "      <td>2024-01-07</td>\n",
       "      <td>Amazon</td>\n",
       "      <td>37028</td>\n",
       "    </tr>\n",
       "    <tr>\n",
       "      <th>1</th>\n",
       "      <td>2024-01-07</td>\n",
       "      <td>Capitol Distributing</td>\n",
       "      <td>4637</td>\n",
       "    </tr>\n",
       "    <tr>\n",
       "      <th>2</th>\n",
       "      <td>2024-01-07</td>\n",
       "      <td>Core-Mark</td>\n",
       "      <td>1917</td>\n",
       "    </tr>\n",
       "    <tr>\n",
       "      <th>3</th>\n",
       "      <td>2024-01-07</td>\n",
       "      <td>Costco</td>\n",
       "      <td>385056</td>\n",
       "    </tr>\n",
       "    <tr>\n",
       "      <th>4</th>\n",
       "      <td>2024-01-07</td>\n",
       "      <td>Eby-Brown</td>\n",
       "      <td>5440</td>\n",
       "    </tr>\n",
       "    <tr>\n",
       "      <th>...</th>\n",
       "      <td>...</td>\n",
       "      <td>...</td>\n",
       "      <td>...</td>\n",
       "    </tr>\n",
       "    <tr>\n",
       "      <th>1479</th>\n",
       "      <td>2025-03-30</td>\n",
       "      <td>Davidson Specialty Foods</td>\n",
       "      <td>5952</td>\n",
       "    </tr>\n",
       "    <tr>\n",
       "      <th>1480</th>\n",
       "      <td>2025-03-30</td>\n",
       "      <td>Harris Teeter</td>\n",
       "      <td>14247</td>\n",
       "    </tr>\n",
       "    <tr>\n",
       "      <th>1481</th>\n",
       "      <td>2025-06-15</td>\n",
       "      <td>Hy-Vee</td>\n",
       "      <td>10267</td>\n",
       "    </tr>\n",
       "    <tr>\n",
       "      <th>1482</th>\n",
       "      <td>2025-07-13</td>\n",
       "      <td>Hy-Vee</td>\n",
       "      <td>47520</td>\n",
       "    </tr>\n",
       "    <tr>\n",
       "      <th>1483</th>\n",
       "      <td>2025-09-14</td>\n",
       "      <td>Hy-Vee</td>\n",
       "      <td>7833</td>\n",
       "    </tr>\n",
       "  </tbody>\n",
       "</table>\n",
       "<p>1484 rows × 3 columns</p>\n",
       "</div>"
      ],
      "text/plain": [
       "           date          cust_parent_name  amount\n",
       "0    2024-01-07                    Amazon   37028\n",
       "1    2024-01-07      Capitol Distributing    4637\n",
       "2    2024-01-07                 Core-Mark    1917\n",
       "3    2024-01-07                    Costco  385056\n",
       "4    2024-01-07                 Eby-Brown    5440\n",
       "...         ...                       ...     ...\n",
       "1479 2025-03-30  Davidson Specialty Foods    5952\n",
       "1480 2025-03-30             Harris Teeter   14247\n",
       "1481 2025-06-15                    Hy-Vee   10267\n",
       "1482 2025-07-13                    Hy-Vee   47520\n",
       "1483 2025-09-14                    Hy-Vee    7833\n",
       "\n",
       "[1484 rows x 3 columns]"
      ]
     },
     "execution_count": 19,
     "metadata": {},
     "output_type": "execute_result"
    }
   ],
   "source": [
    "sales"
   ]
  },
  {
   "cell_type": "code",
   "execution_count": null,
   "metadata": {},
   "outputs": [],
   "source": []
  }
 ],
 "metadata": {
  "kernelspec": {
   "display_name": "base",
   "language": "python",
   "name": "python3"
  },
  "language_info": {
   "codemirror_mode": {
    "name": "ipython",
    "version": 3
   },
   "file_extension": ".py",
   "mimetype": "text/x-python",
   "name": "python",
   "nbconvert_exporter": "python",
   "pygments_lexer": "ipython3",
   "version": "3.11.5"
  }
 },
 "nbformat": 4,
 "nbformat_minor": 2
}
