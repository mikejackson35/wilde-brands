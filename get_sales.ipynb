{
 "cells": [
  {
   "cell_type": "code",
   "execution_count": 1,
   "metadata": {},
   "outputs": [],
   "source": [
    "import pandas as pd"
   ]
  },
  {
   "cell_type": "code",
   "execution_count": 1,
   "metadata": {},
   "outputs": [
    {
     "data": {
      "application/javascript": "\n        if (window._pyforest_update_imports_cell) { window._pyforest_update_imports_cell('import pandas as pd'); }\n    ",
      "text/plain": [
       "<IPython.core.display.Javascript object>"
      ]
     },
     "metadata": {},
     "output_type": "display_data"
    },
    {
     "data": {
      "application/javascript": "\n        if (window._pyforest_update_imports_cell) { window._pyforest_update_imports_cell('import pandas as pd'); }\n    ",
      "text/plain": [
       "<IPython.core.display.Javascript object>"
      ]
     },
     "metadata": {},
     "output_type": "display_data"
    }
   ],
   "source": [
    "def get_gdp_data():\n",
    "    \"\"\"Grab GDP data from a CSV file.\n",
    "\n",
    "    This uses caching to avoid having to read the file every time. If we were\n",
    "    reading from an HTTP endpoint instead of a file, it's a good idea to set\n",
    "    a maximum age to the cache with the TTL argument: @st.cache_data(ttl='1d')\n",
    "    \"\"\"\n",
    "\n",
    "    # Instead of a CSV on disk, you could read from an HTTP endpoint here too.\n",
    "    DATA_FILENAME = r'C:\\Users\\mikej\\Desktop\\strokes_from_winner\\gdp_data.csv'\n",
    "    raw_gdp_df = pd.read_csv(DATA_FILENAME)\n",
    "\n",
    "    MIN_YEAR = 1960\n",
    "    MAX_YEAR = 2022\n",
    "\n",
    "    # The data above has columns like:\n",
    "    # - Country Name\n",
    "    # - Country Code\n",
    "    # - [Stuff I don't care about]\n",
    "    # - GDP for 1960\n",
    "    # - GDP for 1961\n",
    "    # - GDP for 1962\n",
    "    # - ...\n",
    "    # - GDP for 2022\n",
    "    #\n",
    "    # ...but I want this instead:\n",
    "    # - Country Name\n",
    "    # - Country Code\n",
    "    # - Year\n",
    "    # - GDP\n",
    "    #\n",
    "    # So let's pivot all those year-columns into two: Year and GDP\n",
    "    gdp_df = raw_gdp_df.melt(\n",
    "        ['Country Code'],\n",
    "        [str(x) for x in range(MIN_YEAR, MAX_YEAR + 1)],\n",
    "        'Year',\n",
    "        'GDP',\n",
    "    )\n",
    "\n",
    "    # Convert years from string to integers\n",
    "    gdp_df['Year'] = pd.to_numeric(gdp_df['Year'])\n",
    "\n",
    "    return gdp_df\n",
    "\n",
    "gdp_df = get_gdp_data()"
   ]
  },
  {
   "cell_type": "code",
   "execution_count": 38,
   "metadata": {},
   "outputs": [],
   "source": [
    "def get_sales():\n",
    "    \"\"\"Grab GDP data from a CSV file.\n",
    "\n",
    "    This uses caching to avoid having to read the file every time. If we were\n",
    "    reading from an HTTP endpoint instead of a file, it's a good idea to set\n",
    "    a maximum age to the cache with the TTL argument: @st.cache_data(ttl='1d')\n",
    "    \"\"\"\n",
    "\n",
    "    # Instead of a CSV on disk, you could read from an HTTP endpoint here too.\n",
    "    # DATA_FILENAME = r\"C:\\Users\\mikej\\OneDrive - Wilde Brands\\data\\outputs\\true_sales_cust.csv\"\n",
    "    DATA_FILENAME = r'true_sales_cust.csv'\n",
    "    sales = pd.read_csv(DATA_FILENAME)\n",
    "\n",
    "    sales['date'] = pd.to_datetime(sales['date'])\n",
    "\n",
    "    sales = sales[sales.status == 'closed']\n",
    "\n",
    "    sales = sales.groupby(\n",
    "        [pd.Grouper(key='date',freq='W'), 'cust_parent_name']).agg({'amount':'sum'}).reset_index().astype({'amount': 'int64','cust_parent_name':'string'})\n",
    "\n",
    "    return sales\n",
    "\n",
    "sales = get_sales()"
   ]
  },
  {
   "cell_type": "code",
   "execution_count": 39,
   "metadata": {},
   "outputs": [
    {
     "name": "stdout",
     "output_type": "stream",
     "text": [
      "<class 'pandas.core.frame.DataFrame'>\n",
      "RangeIndex: 1459 entries, 0 to 1458\n",
      "Data columns (total 3 columns):\n",
      " #   Column            Non-Null Count  Dtype         \n",
      "---  ------            --------------  -----         \n",
      " 0   date              1459 non-null   datetime64[ns]\n",
      " 1   cust_parent_name  1459 non-null   string        \n",
      " 2   amount            1459 non-null   int64         \n",
      "dtypes: datetime64[ns](1), int64(1), string(1)\n",
      "memory usage: 34.3 KB\n"
     ]
    }
   ],
   "source": [
    "sales.info()"
   ]
  },
  {
   "cell_type": "code",
   "execution_count": 40,
   "metadata": {},
   "outputs": [
    {
     "data": {
      "text/plain": [
       "['Costco',\n",
       " 'Kehe',\n",
       " 'UNFI',\n",
       " 'Amazon',\n",
       " 'Target',\n",
       " 'Walmart',\n",
       " 'Grocery Outlet',\n",
       " 'Set Sail',\n",
       " 'Kroger',\n",
       " 'HEB']"
      ]
     },
     "execution_count": 40,
     "metadata": {},
     "output_type": "execute_result"
    }
   ],
   "source": [
    "# get top 10 customers by sales amount\n",
    "\n",
    "sales[sales.date.dt.year > 2024].groupby('cust_parent_name').agg({'amount':'sum'}).sort_values('amount',ascending=False).head(10).index.tolist()"
   ]
  },
  {
   "cell_type": "code",
   "execution_count": 41,
   "metadata": {},
   "outputs": [
    {
     "data": {
      "text/html": [
       "<div>\n",
       "<style scoped>\n",
       "    .dataframe tbody tr th:only-of-type {\n",
       "        vertical-align: middle;\n",
       "    }\n",
       "\n",
       "    .dataframe tbody tr th {\n",
       "        vertical-align: top;\n",
       "    }\n",
       "\n",
       "    .dataframe thead th {\n",
       "        text-align: right;\n",
       "    }\n",
       "</style>\n",
       "<table border=\"1\" class=\"dataframe\">\n",
       "  <thead>\n",
       "    <tr style=\"text-align: right;\">\n",
       "      <th></th>\n",
       "      <th>date</th>\n",
       "      <th>cust_parent_name</th>\n",
       "      <th>amount</th>\n",
       "    </tr>\n",
       "  </thead>\n",
       "  <tbody>\n",
       "    <tr>\n",
       "      <th>0</th>\n",
       "      <td>2024-01-07</td>\n",
       "      <td>Amazon</td>\n",
       "      <td>37028</td>\n",
       "    </tr>\n",
       "    <tr>\n",
       "      <th>1</th>\n",
       "      <td>2024-01-07</td>\n",
       "      <td>Capitol Distributing</td>\n",
       "      <td>4637</td>\n",
       "    </tr>\n",
       "    <tr>\n",
       "      <th>2</th>\n",
       "      <td>2024-01-07</td>\n",
       "      <td>Core-Mark</td>\n",
       "      <td>1917</td>\n",
       "    </tr>\n",
       "  </tbody>\n",
       "</table>\n",
       "</div>"
      ],
      "text/plain": [
       "        date      cust_parent_name  amount\n",
       "0 2024-01-07                Amazon   37028\n",
       "1 2024-01-07  Capitol Distributing    4637\n",
       "2 2024-01-07             Core-Mark    1917"
      ]
     },
     "execution_count": 41,
     "metadata": {},
     "output_type": "execute_result"
    }
   ],
   "source": [
    "sales.head(3)"
   ]
  },
  {
   "cell_type": "code",
   "execution_count": 42,
   "metadata": {},
   "outputs": [
    {
     "name": "stdout",
     "output_type": "stream",
     "text": [
      "2024-01-07 00:00:00\n",
      "2025-03-02 00:00:00\n"
     ]
    }
   ],
   "source": [
    "# SLIDER VALUES\n",
    "min_value = sales.date.min()\n",
    "max_value = sales.date.max()\n",
    "\n",
    "print(min_value)\n",
    "print(max_value)"
   ]
  },
  {
   "cell_type": "code",
   "execution_count": 43,
   "metadata": {},
   "outputs": [],
   "source": [
    "# get unique parent customers\n",
    "parent_customers = sorted(sales['cust_parent_name'].unique())\n",
    "# parent_customers"
   ]
  },
  {
   "cell_type": "code",
   "execution_count": 44,
   "metadata": {},
   "outputs": [
    {
     "data": {
      "text/plain": [
       "['Costco',\n",
       " 'Kehe',\n",
       " 'UNFI',\n",
       " 'Amazon',\n",
       " 'Target',\n",
       " 'Walmart',\n",
       " 'Grocery Outlet',\n",
       " 'Set Sail',\n",
       " 'Kroger',\n",
       " 'HEB']"
      ]
     },
     "execution_count": 44,
     "metadata": {},
     "output_type": "execute_result"
    }
   ],
   "source": [
    "# get top 10 parent_customers by sales\n",
    "parent_customers_to_show = sales[\n",
    "    sales.date.dt.year > 2024\n",
    "    ].groupby(\n",
    "        'cust_parent_name'\n",
    "        ).agg({'amount':'sum'}\n",
    "              ).sort_values('amount',ascending=False\n",
    "                            ).head(10).index.tolist()\n",
    "parent_customers_to_show"
   ]
  },
  {
   "cell_type": "code",
   "execution_count": 48,
   "metadata": {},
   "outputs": [
    {
     "data": {
      "text/html": [
       "<div>\n",
       "<style scoped>\n",
       "    .dataframe tbody tr th:only-of-type {\n",
       "        vertical-align: middle;\n",
       "    }\n",
       "\n",
       "    .dataframe tbody tr th {\n",
       "        vertical-align: top;\n",
       "    }\n",
       "\n",
       "    .dataframe thead th {\n",
       "        text-align: right;\n",
       "    }\n",
       "</style>\n",
       "<table border=\"1\" class=\"dataframe\">\n",
       "  <thead>\n",
       "    <tr style=\"text-align: right;\">\n",
       "      <th></th>\n",
       "      <th>date</th>\n",
       "      <th>cust_parent_name</th>\n",
       "      <th>amount</th>\n",
       "    </tr>\n",
       "  </thead>\n",
       "  <tbody>\n",
       "    <tr>\n",
       "      <th>8</th>\n",
       "      <td>2024-01-07</td>\n",
       "      <td>Kehe</td>\n",
       "      <td>139990</td>\n",
       "    </tr>\n",
       "    <tr>\n",
       "      <th>16</th>\n",
       "      <td>2024-01-07</td>\n",
       "      <td>UNFI</td>\n",
       "      <td>3757</td>\n",
       "    </tr>\n",
       "    <tr>\n",
       "      <th>31</th>\n",
       "      <td>2024-01-14</td>\n",
       "      <td>Kehe</td>\n",
       "      <td>135062</td>\n",
       "    </tr>\n",
       "  </tbody>\n",
       "</table>\n",
       "</div>"
      ],
      "text/plain": [
       "         date cust_parent_name  amount\n",
       "8  2024-01-07             Kehe  139990\n",
       "16 2024-01-07             UNFI    3757\n",
       "31 2024-01-14             Kehe  135062"
      ]
     },
     "execution_count": 48,
     "metadata": {},
     "output_type": "execute_result"
    }
   ],
   "source": [
    "# Filter the data\n",
    "\n",
    "to_date = max_value\n",
    "from_date = min_value\n",
    "\n",
    "selected_parent_customers = ['UNFI','Kehe']\n",
    "\n",
    "filtered_sales = sales[\n",
    "    (sales['cust_parent_name'].isin(selected_parent_customers))\n",
    "    & (sales['date'] <= to_date)\n",
    "    & (from_date <= sales['date'])\n",
    "]\n",
    "\n",
    "filtered_sales.head(3)"
   ]
  },
  {
   "cell_type": "code",
   "execution_count": 49,
   "metadata": {},
   "outputs": [
    {
     "data": {
      "application/javascript": "\n        if (window._pyforest_update_imports_cell) { window._pyforest_update_imports_cell('import plotly.express as px'); }\n    ",
      "text/plain": [
       "<IPython.core.display.Javascript object>"
      ]
     },
     "metadata": {},
     "output_type": "display_data"
    },
    {
     "data": {
      "application/vnd.plotly.v1+json": {
       "config": {
        "plotlyServerURL": "https://plot.ly"
       },
       "data": [
        {
         "hovertemplate": "cust_parent_name=Kehe<br>date=%{x}<br>amount=%{y}<extra></extra>",
         "legendgroup": "Kehe",
         "line": {
          "color": "#636efa",
          "dash": "solid"
         },
         "marker": {
          "symbol": "circle"
         },
         "mode": "lines",
         "name": "Kehe",
         "orientation": "v",
         "showlegend": true,
         "type": "scatter",
         "x": [
          "2024-01-07T00:00:00",
          "2024-01-14T00:00:00",
          "2024-01-21T00:00:00",
          "2024-01-28T00:00:00",
          "2024-02-04T00:00:00",
          "2024-02-11T00:00:00",
          "2024-02-18T00:00:00",
          "2024-02-25T00:00:00",
          "2024-03-03T00:00:00",
          "2024-03-10T00:00:00",
          "2024-03-17T00:00:00",
          "2024-03-24T00:00:00",
          "2024-03-31T00:00:00",
          "2024-04-07T00:00:00",
          "2024-04-14T00:00:00",
          "2024-04-21T00:00:00",
          "2024-04-28T00:00:00",
          "2024-05-05T00:00:00",
          "2024-05-12T00:00:00",
          "2024-05-19T00:00:00",
          "2024-05-26T00:00:00",
          "2024-06-02T00:00:00",
          "2024-06-09T00:00:00",
          "2024-06-16T00:00:00",
          "2024-06-23T00:00:00",
          "2024-06-30T00:00:00",
          "2024-07-14T00:00:00",
          "2024-07-21T00:00:00",
          "2024-07-28T00:00:00",
          "2024-08-04T00:00:00",
          "2024-08-11T00:00:00",
          "2024-08-18T00:00:00",
          "2024-08-25T00:00:00",
          "2024-09-01T00:00:00",
          "2024-09-08T00:00:00",
          "2024-09-15T00:00:00",
          "2024-09-22T00:00:00",
          "2024-09-29T00:00:00",
          "2024-10-06T00:00:00",
          "2024-10-13T00:00:00",
          "2024-10-20T00:00:00",
          "2024-10-27T00:00:00",
          "2024-11-03T00:00:00",
          "2024-11-10T00:00:00",
          "2024-11-17T00:00:00",
          "2024-11-24T00:00:00",
          "2024-12-01T00:00:00",
          "2024-12-08T00:00:00",
          "2024-12-15T00:00:00",
          "2024-12-22T00:00:00",
          "2024-12-29T00:00:00",
          "2025-01-19T00:00:00",
          "2025-01-26T00:00:00",
          "2025-02-02T00:00:00",
          "2025-02-09T00:00:00",
          "2025-02-16T00:00:00",
          "2025-02-23T00:00:00"
         ],
         "xaxis": "x",
         "y": [
          139990,
          135062,
          100734,
          151732,
          152335,
          86938,
          151237,
          341094,
          122347,
          102445,
          230087,
          213570,
          155274,
          50844,
          93109,
          114094,
          74683,
          139134,
          89831,
          111809,
          115449,
          100378,
          102747,
          122112,
          10560,
          279230,
          249342,
          63494,
          47226,
          207635,
          131562,
          173979,
          382781,
          122032,
          85594,
          251533,
          57036,
          79886,
          24642,
          88356,
          147705,
          168101,
          60465,
          23906,
          88133,
          70662,
          76412,
          186952,
          63127,
          178354,
          199897,
          241595,
          208419,
          228357,
          77549,
          101986,
          414161
         ],
         "yaxis": "y"
        },
        {
         "hovertemplate": "cust_parent_name=UNFI<br>date=%{x}<br>amount=%{y}<extra></extra>",
         "legendgroup": "UNFI",
         "line": {
          "color": "#EF553B",
          "dash": "solid"
         },
         "marker": {
          "symbol": "circle"
         },
         "mode": "lines",
         "name": "UNFI",
         "orientation": "v",
         "showlegend": true,
         "type": "scatter",
         "x": [
          "2024-01-07T00:00:00",
          "2024-01-21T00:00:00",
          "2024-01-28T00:00:00",
          "2024-02-04T00:00:00",
          "2024-02-11T00:00:00",
          "2024-02-18T00:00:00",
          "2024-02-25T00:00:00",
          "2024-03-03T00:00:00",
          "2024-03-10T00:00:00",
          "2024-03-17T00:00:00",
          "2024-03-24T00:00:00",
          "2024-03-31T00:00:00",
          "2024-04-07T00:00:00",
          "2024-04-14T00:00:00",
          "2024-04-21T00:00:00",
          "2024-04-28T00:00:00",
          "2024-05-05T00:00:00",
          "2024-05-12T00:00:00",
          "2024-05-19T00:00:00",
          "2024-06-02T00:00:00",
          "2024-06-16T00:00:00",
          "2024-06-30T00:00:00",
          "2024-07-14T00:00:00",
          "2024-07-21T00:00:00",
          "2024-07-28T00:00:00",
          "2024-08-04T00:00:00",
          "2024-08-11T00:00:00",
          "2024-08-18T00:00:00",
          "2024-08-25T00:00:00",
          "2024-09-01T00:00:00",
          "2024-09-08T00:00:00",
          "2024-09-15T00:00:00",
          "2024-09-22T00:00:00",
          "2024-09-29T00:00:00",
          "2024-10-06T00:00:00",
          "2024-10-20T00:00:00",
          "2024-11-03T00:00:00",
          "2024-11-24T00:00:00",
          "2024-12-01T00:00:00",
          "2024-12-08T00:00:00",
          "2024-12-15T00:00:00",
          "2024-12-22T00:00:00",
          "2024-12-29T00:00:00",
          "2025-01-19T00:00:00",
          "2025-01-26T00:00:00",
          "2025-02-02T00:00:00",
          "2025-02-09T00:00:00",
          "2025-02-23T00:00:00",
          "2025-03-02T00:00:00"
         ],
         "xaxis": "x",
         "y": [
          3757,
          187137,
          109692,
          140388,
          192018,
          96243,
          89721,
          164100,
          96911,
          67217,
          97260,
          182032,
          193423,
          308062,
          117031,
          209001,
          218300,
          195786,
          193474,
          81472,
          341514,
          399954,
          420870,
          98730,
          357681,
          91488,
          172918,
          518807,
          74573,
          378255,
          55364,
          58032,
          179856,
          161990,
          101489,
          95974,
          179427,
          103455,
          84669,
          87516,
          71392,
          185595,
          83490,
          89828,
          176873,
          86322,
          188932,
          471910,
          98322
         ],
         "yaxis": "y"
        }
       ],
       "layout": {
        "legend": {
         "title": {
          "text": "cust_parent_name"
         },
         "tracegroupgap": 0
        },
        "margin": {
         "t": 60
        },
        "showlegend": false,
        "template": {
         "data": {
          "bar": [
           {
            "error_x": {
             "color": "#2a3f5f"
            },
            "error_y": {
             "color": "#2a3f5f"
            },
            "marker": {
             "line": {
              "color": "#E5ECF6",
              "width": 0.5
             },
             "pattern": {
              "fillmode": "overlay",
              "size": 10,
              "solidity": 0.2
             }
            },
            "type": "bar"
           }
          ],
          "barpolar": [
           {
            "marker": {
             "line": {
              "color": "#E5ECF6",
              "width": 0.5
             },
             "pattern": {
              "fillmode": "overlay",
              "size": 10,
              "solidity": 0.2
             }
            },
            "type": "barpolar"
           }
          ],
          "carpet": [
           {
            "aaxis": {
             "endlinecolor": "#2a3f5f",
             "gridcolor": "white",
             "linecolor": "white",
             "minorgridcolor": "white",
             "startlinecolor": "#2a3f5f"
            },
            "baxis": {
             "endlinecolor": "#2a3f5f",
             "gridcolor": "white",
             "linecolor": "white",
             "minorgridcolor": "white",
             "startlinecolor": "#2a3f5f"
            },
            "type": "carpet"
           }
          ],
          "choropleth": [
           {
            "colorbar": {
             "outlinewidth": 0,
             "ticks": ""
            },
            "type": "choropleth"
           }
          ],
          "contour": [
           {
            "colorbar": {
             "outlinewidth": 0,
             "ticks": ""
            },
            "colorscale": [
             [
              0,
              "#0d0887"
             ],
             [
              0.1111111111111111,
              "#46039f"
             ],
             [
              0.2222222222222222,
              "#7201a8"
             ],
             [
              0.3333333333333333,
              "#9c179e"
             ],
             [
              0.4444444444444444,
              "#bd3786"
             ],
             [
              0.5555555555555556,
              "#d8576b"
             ],
             [
              0.6666666666666666,
              "#ed7953"
             ],
             [
              0.7777777777777778,
              "#fb9f3a"
             ],
             [
              0.8888888888888888,
              "#fdca26"
             ],
             [
              1,
              "#f0f921"
             ]
            ],
            "type": "contour"
           }
          ],
          "contourcarpet": [
           {
            "colorbar": {
             "outlinewidth": 0,
             "ticks": ""
            },
            "type": "contourcarpet"
           }
          ],
          "heatmap": [
           {
            "colorbar": {
             "outlinewidth": 0,
             "ticks": ""
            },
            "colorscale": [
             [
              0,
              "#0d0887"
             ],
             [
              0.1111111111111111,
              "#46039f"
             ],
             [
              0.2222222222222222,
              "#7201a8"
             ],
             [
              0.3333333333333333,
              "#9c179e"
             ],
             [
              0.4444444444444444,
              "#bd3786"
             ],
             [
              0.5555555555555556,
              "#d8576b"
             ],
             [
              0.6666666666666666,
              "#ed7953"
             ],
             [
              0.7777777777777778,
              "#fb9f3a"
             ],
             [
              0.8888888888888888,
              "#fdca26"
             ],
             [
              1,
              "#f0f921"
             ]
            ],
            "type": "heatmap"
           }
          ],
          "heatmapgl": [
           {
            "colorbar": {
             "outlinewidth": 0,
             "ticks": ""
            },
            "colorscale": [
             [
              0,
              "#0d0887"
             ],
             [
              0.1111111111111111,
              "#46039f"
             ],
             [
              0.2222222222222222,
              "#7201a8"
             ],
             [
              0.3333333333333333,
              "#9c179e"
             ],
             [
              0.4444444444444444,
              "#bd3786"
             ],
             [
              0.5555555555555556,
              "#d8576b"
             ],
             [
              0.6666666666666666,
              "#ed7953"
             ],
             [
              0.7777777777777778,
              "#fb9f3a"
             ],
             [
              0.8888888888888888,
              "#fdca26"
             ],
             [
              1,
              "#f0f921"
             ]
            ],
            "type": "heatmapgl"
           }
          ],
          "histogram": [
           {
            "marker": {
             "pattern": {
              "fillmode": "overlay",
              "size": 10,
              "solidity": 0.2
             }
            },
            "type": "histogram"
           }
          ],
          "histogram2d": [
           {
            "colorbar": {
             "outlinewidth": 0,
             "ticks": ""
            },
            "colorscale": [
             [
              0,
              "#0d0887"
             ],
             [
              0.1111111111111111,
              "#46039f"
             ],
             [
              0.2222222222222222,
              "#7201a8"
             ],
             [
              0.3333333333333333,
              "#9c179e"
             ],
             [
              0.4444444444444444,
              "#bd3786"
             ],
             [
              0.5555555555555556,
              "#d8576b"
             ],
             [
              0.6666666666666666,
              "#ed7953"
             ],
             [
              0.7777777777777778,
              "#fb9f3a"
             ],
             [
              0.8888888888888888,
              "#fdca26"
             ],
             [
              1,
              "#f0f921"
             ]
            ],
            "type": "histogram2d"
           }
          ],
          "histogram2dcontour": [
           {
            "colorbar": {
             "outlinewidth": 0,
             "ticks": ""
            },
            "colorscale": [
             [
              0,
              "#0d0887"
             ],
             [
              0.1111111111111111,
              "#46039f"
             ],
             [
              0.2222222222222222,
              "#7201a8"
             ],
             [
              0.3333333333333333,
              "#9c179e"
             ],
             [
              0.4444444444444444,
              "#bd3786"
             ],
             [
              0.5555555555555556,
              "#d8576b"
             ],
             [
              0.6666666666666666,
              "#ed7953"
             ],
             [
              0.7777777777777778,
              "#fb9f3a"
             ],
             [
              0.8888888888888888,
              "#fdca26"
             ],
             [
              1,
              "#f0f921"
             ]
            ],
            "type": "histogram2dcontour"
           }
          ],
          "mesh3d": [
           {
            "colorbar": {
             "outlinewidth": 0,
             "ticks": ""
            },
            "type": "mesh3d"
           }
          ],
          "parcoords": [
           {
            "line": {
             "colorbar": {
              "outlinewidth": 0,
              "ticks": ""
             }
            },
            "type": "parcoords"
           }
          ],
          "pie": [
           {
            "automargin": true,
            "type": "pie"
           }
          ],
          "scatter": [
           {
            "fillpattern": {
             "fillmode": "overlay",
             "size": 10,
             "solidity": 0.2
            },
            "type": "scatter"
           }
          ],
          "scatter3d": [
           {
            "line": {
             "colorbar": {
              "outlinewidth": 0,
              "ticks": ""
             }
            },
            "marker": {
             "colorbar": {
              "outlinewidth": 0,
              "ticks": ""
             }
            },
            "type": "scatter3d"
           }
          ],
          "scattercarpet": [
           {
            "marker": {
             "colorbar": {
              "outlinewidth": 0,
              "ticks": ""
             }
            },
            "type": "scattercarpet"
           }
          ],
          "scattergeo": [
           {
            "marker": {
             "colorbar": {
              "outlinewidth": 0,
              "ticks": ""
             }
            },
            "type": "scattergeo"
           }
          ],
          "scattergl": [
           {
            "marker": {
             "colorbar": {
              "outlinewidth": 0,
              "ticks": ""
             }
            },
            "type": "scattergl"
           }
          ],
          "scattermapbox": [
           {
            "marker": {
             "colorbar": {
              "outlinewidth": 0,
              "ticks": ""
             }
            },
            "type": "scattermapbox"
           }
          ],
          "scatterpolar": [
           {
            "marker": {
             "colorbar": {
              "outlinewidth": 0,
              "ticks": ""
             }
            },
            "type": "scatterpolar"
           }
          ],
          "scatterpolargl": [
           {
            "marker": {
             "colorbar": {
              "outlinewidth": 0,
              "ticks": ""
             }
            },
            "type": "scatterpolargl"
           }
          ],
          "scatterternary": [
           {
            "marker": {
             "colorbar": {
              "outlinewidth": 0,
              "ticks": ""
             }
            },
            "type": "scatterternary"
           }
          ],
          "surface": [
           {
            "colorbar": {
             "outlinewidth": 0,
             "ticks": ""
            },
            "colorscale": [
             [
              0,
              "#0d0887"
             ],
             [
              0.1111111111111111,
              "#46039f"
             ],
             [
              0.2222222222222222,
              "#7201a8"
             ],
             [
              0.3333333333333333,
              "#9c179e"
             ],
             [
              0.4444444444444444,
              "#bd3786"
             ],
             [
              0.5555555555555556,
              "#d8576b"
             ],
             [
              0.6666666666666666,
              "#ed7953"
             ],
             [
              0.7777777777777778,
              "#fb9f3a"
             ],
             [
              0.8888888888888888,
              "#fdca26"
             ],
             [
              1,
              "#f0f921"
             ]
            ],
            "type": "surface"
           }
          ],
          "table": [
           {
            "cells": {
             "fill": {
              "color": "#EBF0F8"
             },
             "line": {
              "color": "white"
             }
            },
            "header": {
             "fill": {
              "color": "#C8D4E3"
             },
             "line": {
              "color": "white"
             }
            },
            "type": "table"
           }
          ]
         },
         "layout": {
          "annotationdefaults": {
           "arrowcolor": "#2a3f5f",
           "arrowhead": 0,
           "arrowwidth": 1
          },
          "autotypenumbers": "strict",
          "coloraxis": {
           "colorbar": {
            "outlinewidth": 0,
            "ticks": ""
           }
          },
          "colorscale": {
           "diverging": [
            [
             0,
             "#8e0152"
            ],
            [
             0.1,
             "#c51b7d"
            ],
            [
             0.2,
             "#de77ae"
            ],
            [
             0.3,
             "#f1b6da"
            ],
            [
             0.4,
             "#fde0ef"
            ],
            [
             0.5,
             "#f7f7f7"
            ],
            [
             0.6,
             "#e6f5d0"
            ],
            [
             0.7,
             "#b8e186"
            ],
            [
             0.8,
             "#7fbc41"
            ],
            [
             0.9,
             "#4d9221"
            ],
            [
             1,
             "#276419"
            ]
           ],
           "sequential": [
            [
             0,
             "#0d0887"
            ],
            [
             0.1111111111111111,
             "#46039f"
            ],
            [
             0.2222222222222222,
             "#7201a8"
            ],
            [
             0.3333333333333333,
             "#9c179e"
            ],
            [
             0.4444444444444444,
             "#bd3786"
            ],
            [
             0.5555555555555556,
             "#d8576b"
            ],
            [
             0.6666666666666666,
             "#ed7953"
            ],
            [
             0.7777777777777778,
             "#fb9f3a"
            ],
            [
             0.8888888888888888,
             "#fdca26"
            ],
            [
             1,
             "#f0f921"
            ]
           ],
           "sequentialminus": [
            [
             0,
             "#0d0887"
            ],
            [
             0.1111111111111111,
             "#46039f"
            ],
            [
             0.2222222222222222,
             "#7201a8"
            ],
            [
             0.3333333333333333,
             "#9c179e"
            ],
            [
             0.4444444444444444,
             "#bd3786"
            ],
            [
             0.5555555555555556,
             "#d8576b"
            ],
            [
             0.6666666666666666,
             "#ed7953"
            ],
            [
             0.7777777777777778,
             "#fb9f3a"
            ],
            [
             0.8888888888888888,
             "#fdca26"
            ],
            [
             1,
             "#f0f921"
            ]
           ]
          },
          "colorway": [
           "#636efa",
           "#EF553B",
           "#00cc96",
           "#ab63fa",
           "#FFA15A",
           "#19d3f3",
           "#FF6692",
           "#B6E880",
           "#FF97FF",
           "#FECB52"
          ],
          "font": {
           "color": "#2a3f5f"
          },
          "geo": {
           "bgcolor": "white",
           "lakecolor": "white",
           "landcolor": "#E5ECF6",
           "showlakes": true,
           "showland": true,
           "subunitcolor": "white"
          },
          "hoverlabel": {
           "align": "left"
          },
          "hovermode": "closest",
          "mapbox": {
           "style": "light"
          },
          "paper_bgcolor": "white",
          "plot_bgcolor": "#E5ECF6",
          "polar": {
           "angularaxis": {
            "gridcolor": "white",
            "linecolor": "white",
            "ticks": ""
           },
           "bgcolor": "#E5ECF6",
           "radialaxis": {
            "gridcolor": "white",
            "linecolor": "white",
            "ticks": ""
           }
          },
          "scene": {
           "xaxis": {
            "backgroundcolor": "#E5ECF6",
            "gridcolor": "white",
            "gridwidth": 2,
            "linecolor": "white",
            "showbackground": true,
            "ticks": "",
            "zerolinecolor": "white"
           },
           "yaxis": {
            "backgroundcolor": "#E5ECF6",
            "gridcolor": "white",
            "gridwidth": 2,
            "linecolor": "white",
            "showbackground": true,
            "ticks": "",
            "zerolinecolor": "white"
           },
           "zaxis": {
            "backgroundcolor": "#E5ECF6",
            "gridcolor": "white",
            "gridwidth": 2,
            "linecolor": "white",
            "showbackground": true,
            "ticks": "",
            "zerolinecolor": "white"
           }
          },
          "shapedefaults": {
           "line": {
            "color": "#2a3f5f"
           }
          },
          "ternary": {
           "aaxis": {
            "gridcolor": "white",
            "linecolor": "white",
            "ticks": ""
           },
           "baxis": {
            "gridcolor": "white",
            "linecolor": "white",
            "ticks": ""
           },
           "bgcolor": "#E5ECF6",
           "caxis": {
            "gridcolor": "white",
            "linecolor": "white",
            "ticks": ""
           }
          },
          "title": {
           "x": 0.05
          },
          "xaxis": {
           "automargin": true,
           "gridcolor": "white",
           "linecolor": "white",
           "ticks": "",
           "title": {
            "standoff": 15
           },
           "zerolinecolor": "white",
           "zerolinewidth": 2
          },
          "yaxis": {
           "automargin": true,
           "gridcolor": "white",
           "linecolor": "white",
           "ticks": "",
           "title": {
            "standoff": 15
           },
           "zerolinecolor": "white",
           "zerolinewidth": 2
          }
         }
        },
        "xaxis": {
         "anchor": "y",
         "domain": [
          0,
          1
         ],
         "title": {
          "text": "date"
         }
        },
        "yaxis": {
         "anchor": "x",
         "domain": [
          0,
          1
         ],
         "title": {
          "text": "amount"
         }
        }
       }
      }
     },
     "metadata": {},
     "output_type": "display_data"
    }
   ],
   "source": [
    "# line chart\n",
    "\n",
    "line_chart = px.line(\n",
    "    filtered_sales,\n",
    "    x='date',\n",
    "    y='amount',\n",
    "    color='cust_parent_name',\n",
    ").update_layout(showlegend=False)\n",
    "\n",
    "line_chart.show()"
   ]
  },
  {
   "cell_type": "code",
   "execution_count": 50,
   "metadata": {},
   "outputs": [
    {
     "name": "stdout",
     "output_type": "stream",
     "text": [
      "        date      cust_parent_name  amount\n",
      "0 2024-01-07                Amazon   37028\n",
      "1 2024-01-07  Capitol Distributing    4637\n",
      "2 2024-01-07             Core-Mark    1917\n",
      "           date cust_parent_name  amount\n",
      "1438 2025-03-02           Amazon   53900\n",
      "1439 2025-03-02              CVS    1346\n",
      "1440 2025-03-02        Core-Mark    9846\n"
     ]
    }
   ],
   "source": [
    "# YoY Camparisions\n",
    "\n",
    "first_date = sales[sales['date'] == from_date]\n",
    "last_date = sales[sales['date'] == to_date]\n",
    "\n",
    "print(first_date.head(3))\n",
    "print(last_date.head(3))"
   ]
  },
  {
   "cell_type": "code",
   "execution_count": 62,
   "metadata": {},
   "outputs": [
    {
     "name": "stdout",
     "output_type": "stream",
     "text": [
      "UNFI first sales: 3757 last sales: 98322 YoY: 94565\n",
      "Kehe first sales: 139990 last sales: 0 YoY: -139990\n",
      "===\n",
      " \n",
      "Parent Customer UNFI\n",
      " \n",
      "Last Parent Cust: 983.22\n",
      " \n",
      "Growth: 945.65x\n",
      "Delta Colornormal\n",
      "---------\n",
      "===\n",
      " \n",
      "Parent Customer Kehe\n",
      " \n",
      "Last Parent Cust: 0.00\n",
      " \n",
      "Growth: -1,399.90x\n",
      "Delta Colornormal\n",
      "---------\n"
     ]
    },
    {
     "name": "stderr",
     "output_type": "stream",
     "text": [
      "C:\\Users\\mikej\\AppData\\Local\\Temp\\ipykernel_20116\\875602102.py:9: UserWarning:\n",
      "\n",
      "Boolean Series key will be reindexed to match DataFrame index.\n",
      "\n",
      "C:\\Users\\mikej\\AppData\\Local\\Temp\\ipykernel_20116\\875602102.py:10: UserWarning:\n",
      "\n",
      "Boolean Series key will be reindexed to match DataFrame index.\n",
      "\n"
     ]
    }
   ],
   "source": [
    "import math\n",
    "\n",
    "for i, parent_customer in enumerate(selected_parent_customers):\n",
    "    first_sales = first_date[first_date['cust_parent_name'] == parent_customer]['amount'].sum()\n",
    "    last_sales = last_date[last_date['cust_parent_name'] == parent_customer]['amount'].sum()\n",
    "    print(f'{parent_customer} first sales: {first_sales} last sales: {last_sales} YoY: {last_sales-first_sales}')\n",
    "\n",
    "for i, parent_customer in enumerate(selected_parent_customers):\n",
    "        first_parent_cust = first_date[sales['cust_parent_name'] == parent_customer]['amount'].sum() / 1_00\n",
    "        last_parent_cust = last_date[sales['cust_parent_name'] == parent_customer]['amount'].sum() / 1_00\n",
    "\n",
    "        if math.isnan(first_parent_cust):\n",
    "            growth = 'n/a'\n",
    "            delta_color = 'off'\n",
    "        else:\n",
    "            growth = f'{last_parent_cust - first_parent_cust:,.2f}x'\n",
    "            delta_color = 'normal'\n",
    "\n",
    "            print('===')\n",
    "            print(' ')\n",
    "            print(f'Parent Customer {parent_customer}')\n",
    "            print(' ')\n",
    "            print(f'Last Parent Cust: {last_parent_cust:,.2f}') \n",
    "            print(' ')\n",
    "            print(f'Growth: {growth}')\n",
    "            print(f'Delta Color{delta_color}')\n",
    "            print('---------')\n"
   ]
  },
  {
   "cell_type": "code",
   "execution_count": null,
   "metadata": {},
   "outputs": [],
   "source": []
  }
 ],
 "metadata": {
  "kernelspec": {
   "display_name": "base",
   "language": "python",
   "name": "python3"
  },
  "language_info": {
   "codemirror_mode": {
    "name": "ipython",
    "version": 3
   },
   "file_extension": ".py",
   "mimetype": "text/x-python",
   "name": "python",
   "nbconvert_exporter": "python",
   "pygments_lexer": "ipython3",
   "version": "3.11.5"
  }
 },
 "nbformat": 4,
 "nbformat_minor": 2
}
